{
 "cells": [
  {
   "cell_type": "code",
   "id": "initial_id",
   "metadata": {
    "collapsed": true,
    "ExecuteTime": {
     "end_time": "2024-09-29T12:27:28.561524Z",
     "start_time": "2024-09-29T12:27:27.551276Z"
    }
   },
   "source": [
    "import pandas as pd\n",
    "import numpy as np"
   ],
   "outputs": [],
   "execution_count": 1
  },
  {
   "metadata": {
    "ExecuteTime": {
     "end_time": "2024-09-29T12:27:30.169502Z",
     "start_time": "2024-09-29T12:27:28.564457Z"
    }
   },
   "cell_type": "code",
   "source": [
    "from sklearn.ensemble import RandomForestRegressor\n",
    "from sklearn.feature_selection import VarianceThreshold\n",
    "from sklearn.pipeline import Pipeline"
   ],
   "id": "c31ed431daba048e",
   "outputs": [],
   "execution_count": 2
  },
  {
   "metadata": {
    "ExecuteTime": {
     "end_time": "2024-09-29T12:27:34.954186Z",
     "start_time": "2024-09-29T12:27:30.171643Z"
    }
   },
   "cell_type": "code",
   "source": "from descriptors import get_maccs_fingerprints",
   "id": "44a7428029bc3614",
   "outputs": [],
   "execution_count": 3
  },
  {
   "metadata": {
    "ExecuteTime": {
     "end_time": "2024-09-29T12:27:34.965091Z",
     "start_time": "2024-09-29T12:27:34.958432Z"
    }
   },
   "cell_type": "code",
   "source": "import joblib",
   "id": "d7c803a4e03307c",
   "outputs": [],
   "execution_count": 4
  },
  {
   "metadata": {
    "ExecuteTime": {
     "end_time": "2024-09-29T12:27:34.982559Z",
     "start_time": "2024-09-29T12:27:34.971560Z"
    }
   },
   "cell_type": "code",
   "source": "train_data = pd.read_csv('/Users/corderjo/pepper_data/data_structure/backup_of_model_data_sets_aug2024/model_data_example_avoid_high_std+only_above_LOQ_WWTP_combined_data.tsv', sep='\\t')",
   "id": "2de04199a57d42c2",
   "outputs": [],
   "execution_count": 5
  },
  {
   "metadata": {
    "ExecuteTime": {
     "end_time": "2024-09-29T12:27:35.037163Z",
     "start_time": "2024-09-29T12:27:34.986279Z"
    }
   },
   "cell_type": "code",
   "source": "train_data",
   "id": "7dab11bb506ff906",
   "outputs": [
    {
     "data": {
      "text/plain": [
       "                       Combined_ID  \\\n",
       "0                  yijing_data_317   \n",
       "1                  yijing_data_619   \n",
       "2                  yijing_data_373   \n",
       "3                  yijing_data_729   \n",
       "4                  yijing_data_376   \n",
       "..                             ...   \n",
       "767  amar_data_226+yijing_data_527   \n",
       "768                yijing_data_266   \n",
       "769                    aus_data_93   \n",
       "770  amar_data_319+yijing_data_722   \n",
       "771   amar_data_47+yijing_data_120   \n",
       "\n",
       "                                                SMILES  \\\n",
       "0                                         NCCP(=O)(O)O   \n",
       "1                                 CCCCCCCCCCCC(=O)NCCO   \n",
       "2                             COc1c(Cl)ccc(Cl)c1C(=O)O   \n",
       "3                    Cc1c(O)cc2c(c1O)C(=O)c1ccccc1C2=O   \n",
       "4                              O=C(NC1CCCCC1)NC1CCCCC1   \n",
       "..                                                 ...   \n",
       "767                     CC(C)CC(N)C(=O)NC(C(=O)O)C(C)C   \n",
       "768                    CC(COc1ccccc1Cc1ccccc1)N1CCCCC1   \n",
       "769                                 CCNc1nc(N)nc(Cl)n1   \n",
       "770  Cc1cc2nc3c(=O)[nH]c(=O)nc-3n(CC(O)C(O)C(O)CO)c...   \n",
       "771   CC(CCC(=O)O)C1CCC2C3CCC4CC(O)CCC4(C)C3CC(=O)C12C   \n",
       "\n",
       "                               Compound      logB  \n",
       "0                             Ciliatine -0.064500  \n",
       "1                 N-lauroylethanolamine -1.134907  \n",
       "2                               Dicamba -0.602006  \n",
       "3                              Rubiadin -1.240916  \n",
       "4                      Dicyclohexylurea -0.072620  \n",
       "..                                  ...       ...  \n",
       "767                        Leucylvaline -1.218580  \n",
       "768                        Benproperine -0.469627  \n",
       "769                Desisopropylatrazine -0.835313  \n",
       "770                          Riboflavin -1.577958  \n",
       "771  3?-Hydroxy-12 Ketolithocholic Acid -1.200648  \n",
       "\n",
       "[772 rows x 4 columns]"
      ],
      "text/html": [
       "<div>\n",
       "<style scoped>\n",
       "    .dataframe tbody tr th:only-of-type {\n",
       "        vertical-align: middle;\n",
       "    }\n",
       "\n",
       "    .dataframe tbody tr th {\n",
       "        vertical-align: top;\n",
       "    }\n",
       "\n",
       "    .dataframe thead th {\n",
       "        text-align: right;\n",
       "    }\n",
       "</style>\n",
       "<table border=\"1\" class=\"dataframe\">\n",
       "  <thead>\n",
       "    <tr style=\"text-align: right;\">\n",
       "      <th></th>\n",
       "      <th>Combined_ID</th>\n",
       "      <th>SMILES</th>\n",
       "      <th>Compound</th>\n",
       "      <th>logB</th>\n",
       "    </tr>\n",
       "  </thead>\n",
       "  <tbody>\n",
       "    <tr>\n",
       "      <th>0</th>\n",
       "      <td>yijing_data_317</td>\n",
       "      <td>NCCP(=O)(O)O</td>\n",
       "      <td>Ciliatine</td>\n",
       "      <td>-0.064500</td>\n",
       "    </tr>\n",
       "    <tr>\n",
       "      <th>1</th>\n",
       "      <td>yijing_data_619</td>\n",
       "      <td>CCCCCCCCCCCC(=O)NCCO</td>\n",
       "      <td>N-lauroylethanolamine</td>\n",
       "      <td>-1.134907</td>\n",
       "    </tr>\n",
       "    <tr>\n",
       "      <th>2</th>\n",
       "      <td>yijing_data_373</td>\n",
       "      <td>COc1c(Cl)ccc(Cl)c1C(=O)O</td>\n",
       "      <td>Dicamba</td>\n",
       "      <td>-0.602006</td>\n",
       "    </tr>\n",
       "    <tr>\n",
       "      <th>3</th>\n",
       "      <td>yijing_data_729</td>\n",
       "      <td>Cc1c(O)cc2c(c1O)C(=O)c1ccccc1C2=O</td>\n",
       "      <td>Rubiadin</td>\n",
       "      <td>-1.240916</td>\n",
       "    </tr>\n",
       "    <tr>\n",
       "      <th>4</th>\n",
       "      <td>yijing_data_376</td>\n",
       "      <td>O=C(NC1CCCCC1)NC1CCCCC1</td>\n",
       "      <td>Dicyclohexylurea</td>\n",
       "      <td>-0.072620</td>\n",
       "    </tr>\n",
       "    <tr>\n",
       "      <th>...</th>\n",
       "      <td>...</td>\n",
       "      <td>...</td>\n",
       "      <td>...</td>\n",
       "      <td>...</td>\n",
       "    </tr>\n",
       "    <tr>\n",
       "      <th>767</th>\n",
       "      <td>amar_data_226+yijing_data_527</td>\n",
       "      <td>CC(C)CC(N)C(=O)NC(C(=O)O)C(C)C</td>\n",
       "      <td>Leucylvaline</td>\n",
       "      <td>-1.218580</td>\n",
       "    </tr>\n",
       "    <tr>\n",
       "      <th>768</th>\n",
       "      <td>yijing_data_266</td>\n",
       "      <td>CC(COc1ccccc1Cc1ccccc1)N1CCCCC1</td>\n",
       "      <td>Benproperine</td>\n",
       "      <td>-0.469627</td>\n",
       "    </tr>\n",
       "    <tr>\n",
       "      <th>769</th>\n",
       "      <td>aus_data_93</td>\n",
       "      <td>CCNc1nc(N)nc(Cl)n1</td>\n",
       "      <td>Desisopropylatrazine</td>\n",
       "      <td>-0.835313</td>\n",
       "    </tr>\n",
       "    <tr>\n",
       "      <th>770</th>\n",
       "      <td>amar_data_319+yijing_data_722</td>\n",
       "      <td>Cc1cc2nc3c(=O)[nH]c(=O)nc-3n(CC(O)C(O)C(O)CO)c...</td>\n",
       "      <td>Riboflavin</td>\n",
       "      <td>-1.577958</td>\n",
       "    </tr>\n",
       "    <tr>\n",
       "      <th>771</th>\n",
       "      <td>amar_data_47+yijing_data_120</td>\n",
       "      <td>CC(CCC(=O)O)C1CCC2C3CCC4CC(O)CCC4(C)C3CC(=O)C12C</td>\n",
       "      <td>3?-Hydroxy-12 Ketolithocholic Acid</td>\n",
       "      <td>-1.200648</td>\n",
       "    </tr>\n",
       "  </tbody>\n",
       "</table>\n",
       "<p>772 rows × 4 columns</p>\n",
       "</div>"
      ]
     },
     "execution_count": 6,
     "metadata": {},
     "output_type": "execute_result"
    }
   ],
   "execution_count": 6
  },
  {
   "metadata": {
    "ExecuteTime": {
     "end_time": "2024-09-29T12:27:35.042724Z",
     "start_time": "2024-09-29T12:27:35.039547Z"
    }
   },
   "cell_type": "code",
   "source": "",
   "id": "464ee5d48a7fa4c2",
   "outputs": [],
   "execution_count": 6
  },
  {
   "metadata": {
    "ExecuteTime": {
     "end_time": "2024-09-29T12:27:36.240825Z",
     "start_time": "2024-09-29T12:27:35.045653Z"
    }
   },
   "cell_type": "code",
   "source": "X = get_maccs_fingerprints(train_data.SMILES)",
   "id": "61879f4c6ac8e93b",
   "outputs": [],
   "execution_count": 7
  },
  {
   "metadata": {
    "ExecuteTime": {
     "end_time": "2024-09-29T12:27:36.247937Z",
     "start_time": "2024-09-29T12:27:36.243191Z"
    }
   },
   "cell_type": "code",
   "source": "",
   "id": "f48fc41b557556a6",
   "outputs": [],
   "execution_count": 7
  },
  {
   "metadata": {
    "ExecuteTime": {
     "end_time": "2024-09-29T12:27:36.260581Z",
     "start_time": "2024-09-29T12:27:36.255036Z"
    }
   },
   "cell_type": "code",
   "source": "",
   "id": "1e528bdca7e782d0",
   "outputs": [],
   "execution_count": 7
  },
  {
   "metadata": {
    "ExecuteTime": {
     "end_time": "2024-09-29T12:27:36.272832Z",
     "start_time": "2024-09-29T12:27:36.262992Z"
    }
   },
   "cell_type": "code",
   "source": "",
   "id": "5a549f22e2ba9b60",
   "outputs": [],
   "execution_count": 7
  },
  {
   "metadata": {
    "ExecuteTime": {
     "end_time": "2024-09-29T12:27:36.285934Z",
     "start_time": "2024-09-29T12:27:36.275436Z"
    }
   },
   "cell_type": "code",
   "source": "",
   "id": "3faf882cc70feb59",
   "outputs": [],
   "execution_count": 7
  },
  {
   "metadata": {
    "ExecuteTime": {
     "end_time": "2024-09-29T12:27:36.293967Z",
     "start_time": "2024-09-29T12:27:36.287943Z"
    }
   },
   "cell_type": "code",
   "source": "y = train_data['logB']",
   "id": "e9eb75b841684edc",
   "outputs": [],
   "execution_count": 8
  },
  {
   "metadata": {
    "ExecuteTime": {
     "end_time": "2024-09-29T12:27:36.301041Z",
     "start_time": "2024-09-29T12:27:36.296685Z"
    }
   },
   "cell_type": "code",
   "source": "",
   "id": "ff386c2d83e800a6",
   "outputs": [],
   "execution_count": 8
  },
  {
   "metadata": {
    "ExecuteTime": {
     "end_time": "2024-09-29T12:27:36.306806Z",
     "start_time": "2024-09-29T12:27:36.302837Z"
    }
   },
   "cell_type": "code",
   "source": "",
   "id": "5c57bc569f6e56bc",
   "outputs": [],
   "execution_count": 8
  },
  {
   "metadata": {
    "ExecuteTime": {
     "end_time": "2024-09-29T12:27:36.321151Z",
     "start_time": "2024-09-29T12:27:36.311030Z"
    }
   },
   "cell_type": "code",
   "source": [
    "# Define the pipeline\n",
    "regressor = RandomForestRegressor(random_state=0)\n",
    "variance_selector =  VarianceThreshold(threshold=0)\n",
    "pipeline = Pipeline([\n",
    "                    ('variance_selector', variance_selector),\n",
    "                    ('regressor', regressor)\n",
    "                    ])"
   ],
   "id": "1daeeb2060624d12",
   "outputs": [],
   "execution_count": 9
  },
  {
   "metadata": {
    "ExecuteTime": {
     "end_time": "2024-09-29T12:27:37.317990Z",
     "start_time": "2024-09-29T12:27:36.325459Z"
    }
   },
   "cell_type": "code",
   "source": "pipeline.fit(X, y)",
   "id": "47bdbb4475cc371",
   "outputs": [
    {
     "data": {
      "text/plain": [
       "Pipeline(steps=[('variance_selector', VarianceThreshold(threshold=0)),\n",
       "                ('regressor', RandomForestRegressor(random_state=0))])"
      ],
      "text/html": [
       "<style>#sk-container-id-1 {color: black;background-color: white;}#sk-container-id-1 pre{padding: 0;}#sk-container-id-1 div.sk-toggleable {background-color: white;}#sk-container-id-1 label.sk-toggleable__label {cursor: pointer;display: block;width: 100%;margin-bottom: 0;padding: 0.3em;box-sizing: border-box;text-align: center;}#sk-container-id-1 label.sk-toggleable__label-arrow:before {content: \"▸\";float: left;margin-right: 0.25em;color: #696969;}#sk-container-id-1 label.sk-toggleable__label-arrow:hover:before {color: black;}#sk-container-id-1 div.sk-estimator:hover label.sk-toggleable__label-arrow:before {color: black;}#sk-container-id-1 div.sk-toggleable__content {max-height: 0;max-width: 0;overflow: hidden;text-align: left;background-color: #f0f8ff;}#sk-container-id-1 div.sk-toggleable__content pre {margin: 0.2em;color: black;border-radius: 0.25em;background-color: #f0f8ff;}#sk-container-id-1 input.sk-toggleable__control:checked~div.sk-toggleable__content {max-height: 200px;max-width: 100%;overflow: auto;}#sk-container-id-1 input.sk-toggleable__control:checked~label.sk-toggleable__label-arrow:before {content: \"▾\";}#sk-container-id-1 div.sk-estimator input.sk-toggleable__control:checked~label.sk-toggleable__label {background-color: #d4ebff;}#sk-container-id-1 div.sk-label input.sk-toggleable__control:checked~label.sk-toggleable__label {background-color: #d4ebff;}#sk-container-id-1 input.sk-hidden--visually {border: 0;clip: rect(1px 1px 1px 1px);clip: rect(1px, 1px, 1px, 1px);height: 1px;margin: -1px;overflow: hidden;padding: 0;position: absolute;width: 1px;}#sk-container-id-1 div.sk-estimator {font-family: monospace;background-color: #f0f8ff;border: 1px dotted black;border-radius: 0.25em;box-sizing: border-box;margin-bottom: 0.5em;}#sk-container-id-1 div.sk-estimator:hover {background-color: #d4ebff;}#sk-container-id-1 div.sk-parallel-item::after {content: \"\";width: 100%;border-bottom: 1px solid gray;flex-grow: 1;}#sk-container-id-1 div.sk-label:hover label.sk-toggleable__label {background-color: #d4ebff;}#sk-container-id-1 div.sk-serial::before {content: \"\";position: absolute;border-left: 1px solid gray;box-sizing: border-box;top: 0;bottom: 0;left: 50%;z-index: 0;}#sk-container-id-1 div.sk-serial {display: flex;flex-direction: column;align-items: center;background-color: white;padding-right: 0.2em;padding-left: 0.2em;position: relative;}#sk-container-id-1 div.sk-item {position: relative;z-index: 1;}#sk-container-id-1 div.sk-parallel {display: flex;align-items: stretch;justify-content: center;background-color: white;position: relative;}#sk-container-id-1 div.sk-item::before, #sk-container-id-1 div.sk-parallel-item::before {content: \"\";position: absolute;border-left: 1px solid gray;box-sizing: border-box;top: 0;bottom: 0;left: 50%;z-index: -1;}#sk-container-id-1 div.sk-parallel-item {display: flex;flex-direction: column;z-index: 1;position: relative;background-color: white;}#sk-container-id-1 div.sk-parallel-item:first-child::after {align-self: flex-end;width: 50%;}#sk-container-id-1 div.sk-parallel-item:last-child::after {align-self: flex-start;width: 50%;}#sk-container-id-1 div.sk-parallel-item:only-child::after {width: 0;}#sk-container-id-1 div.sk-dashed-wrapped {border: 1px dashed gray;margin: 0 0.4em 0.5em 0.4em;box-sizing: border-box;padding-bottom: 0.4em;background-color: white;}#sk-container-id-1 div.sk-label label {font-family: monospace;font-weight: bold;display: inline-block;line-height: 1.2em;}#sk-container-id-1 div.sk-label-container {text-align: center;}#sk-container-id-1 div.sk-container {/* jupyter's `normalize.less` sets `[hidden] { display: none; }` but bootstrap.min.css set `[hidden] { display: none !important; }` so we also need the `!important` here to be able to override the default hidden behavior on the sphinx rendered scikit-learn.org. See: https://github.com/scikit-learn/scikit-learn/issues/21755 */display: inline-block !important;position: relative;}#sk-container-id-1 div.sk-text-repr-fallback {display: none;}</style><div id=\"sk-container-id-1\" class=\"sk-top-container\"><div class=\"sk-text-repr-fallback\"><pre>Pipeline(steps=[(&#x27;variance_selector&#x27;, VarianceThreshold(threshold=0)),\n",
       "                (&#x27;regressor&#x27;, RandomForestRegressor(random_state=0))])</pre><b>In a Jupyter environment, please rerun this cell to show the HTML representation or trust the notebook. <br />On GitHub, the HTML representation is unable to render, please try loading this page with nbviewer.org.</b></div><div class=\"sk-container\" hidden><div class=\"sk-item sk-dashed-wrapped\"><div class=\"sk-label-container\"><div class=\"sk-label sk-toggleable\"><input class=\"sk-toggleable__control sk-hidden--visually\" id=\"sk-estimator-id-1\" type=\"checkbox\" ><label for=\"sk-estimator-id-1\" class=\"sk-toggleable__label sk-toggleable__label-arrow\">Pipeline</label><div class=\"sk-toggleable__content\"><pre>Pipeline(steps=[(&#x27;variance_selector&#x27;, VarianceThreshold(threshold=0)),\n",
       "                (&#x27;regressor&#x27;, RandomForestRegressor(random_state=0))])</pre></div></div></div><div class=\"sk-serial\"><div class=\"sk-item\"><div class=\"sk-estimator sk-toggleable\"><input class=\"sk-toggleable__control sk-hidden--visually\" id=\"sk-estimator-id-2\" type=\"checkbox\" ><label for=\"sk-estimator-id-2\" class=\"sk-toggleable__label sk-toggleable__label-arrow\">VarianceThreshold</label><div class=\"sk-toggleable__content\"><pre>VarianceThreshold(threshold=0)</pre></div></div></div><div class=\"sk-item\"><div class=\"sk-estimator sk-toggleable\"><input class=\"sk-toggleable__control sk-hidden--visually\" id=\"sk-estimator-id-3\" type=\"checkbox\" ><label for=\"sk-estimator-id-3\" class=\"sk-toggleable__label sk-toggleable__label-arrow\">RandomForestRegressor</label><div class=\"sk-toggleable__content\"><pre>RandomForestRegressor(random_state=0)</pre></div></div></div></div></div></div></div>"
      ]
     },
     "execution_count": 10,
     "metadata": {},
     "output_type": "execute_result"
    }
   ],
   "execution_count": 10
  },
  {
   "metadata": {
    "ExecuteTime": {
     "end_time": "2024-09-29T12:27:37.416734Z",
     "start_time": "2024-09-29T12:27:37.320237Z"
    }
   },
   "cell_type": "code",
   "source": "joblib.dump(pipeline, 'pepper_pipeline_model.pkl')",
   "id": "a8a3386b83b9ab2e",
   "outputs": [
    {
     "data": {
      "text/plain": [
       "['pepper_pipeline_model.pkl']"
      ]
     },
     "execution_count": 11,
     "metadata": {},
     "output_type": "execute_result"
    }
   ],
   "execution_count": 11
  },
  {
   "metadata": {
    "ExecuteTime": {
     "end_time": "2024-09-29T12:27:37.421868Z",
     "start_time": "2024-09-29T12:27:37.418973Z"
    }
   },
   "cell_type": "code",
   "source": "",
   "id": "336847a3979b7678",
   "outputs": [],
   "execution_count": 11
  }
 ],
 "metadata": {
  "kernelspec": {
   "display_name": "Python 3",
   "language": "python",
   "name": "python3"
  },
  "language_info": {
   "codemirror_mode": {
    "name": "ipython",
    "version": 2
   },
   "file_extension": ".py",
   "mimetype": "text/x-python",
   "name": "python",
   "nbconvert_exporter": "python",
   "pygments_lexer": "ipython2",
   "version": "2.7.6"
  }
 },
 "nbformat": 4,
 "nbformat_minor": 5
}
